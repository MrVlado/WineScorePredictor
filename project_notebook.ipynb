{
 "cells": [
  {
   "cell_type": "markdown",
   "metadata": {},
   "source": [
    "### Loading Libraryes"
   ]
  },
  {
   "cell_type": "code",
   "execution_count": 1,
   "metadata": {},
   "outputs": [],
   "source": [
    "%matplotlib inline\n",
    "import matplotlib.pyplot as plt\n",
    "import csv\n",
    "import pandas as pnd\n",
    "import numpy as np\n",
    "import scipy as sp\n",
    "import sklearn as sl\n",
    "from scipy import stats\n",
    "from sklearn import datasets\n",
    "from sklearn import linear_model"
   ]
  },
  {
   "cell_type": "markdown",
   "metadata": {},
   "source": [
    "### Loading Dataset"
   ]
  },
  {
   "cell_type": "markdown",
   "metadata": {},
   "source": [
    "Input variables (based on physicochemical tests):\n",
    "\n",
    "1 - fixed acidity\n",
    "2 - volatile acidity\n",
    "3 - citric acid\n",
    "4 - residual sugar\n",
    "5 - chlorides\\n\n",
    "6 - free sulfur dioxide\n",
    "7 - total sulfur dioxide\n",
    "8 - density\n",
    "9 - pH\n",
    "10 - sulphates\n",
    "11 - alcohol"
   ]
  },
  {
   "cell_type": "markdown",
   "metadata": {},
   "source": [
    "#### Loading Red Wine"
   ]
  },
  {
   "cell_type": "code",
   "execution_count": 20,
   "metadata": {},
   "outputs": [
    {
     "name": "stdout",
     "output_type": "stream",
     "text": [
      "(1599, 12)\n",
      "(1599, 11)\n",
      "(1599,)\n"
     ]
    }
   ],
   "source": [
    "filename = 'DATASET_WINE/winequality-red.csv'\n",
    "redWines = csv.reader(open(filename, newline='\\n'), delimiter=';')\n",
    "header = next(redWines)\n",
    "RWDataset = list(redWines)\n",
    "for i in range(len(RWDataset)):\n",
    "    RWDataset[i] = [float(x) for x in RWDataset[i]]\n",
    "    \n",
    "RWDataset = np.asarray(RWDataset)\n",
    "print(RWDataset.shape)\n",
    "RWScores= RWDataset[:,-1]\n",
    "RWFeatures = RWDataset[:,0:-1]\n",
    "\n",
    "print(RWFeatures.shape)\n",
    "print(RWScores.shape)\n"
   ]
  },
  {
   "cell_type": "markdown",
   "metadata": {},
   "source": [
    "#### Loading White Wine"
   ]
  },
  {
   "cell_type": "code",
   "execution_count": 21,
   "metadata": {},
   "outputs": [
    {
     "name": "stdout",
     "output_type": "stream",
     "text": [
      "(4898, 12)\n",
      "(4898, 11)\n",
      "(4898,)\n"
     ]
    }
   ],
   "source": [
    "filename = 'DATASET_WINE/winequality-white.csv'\n",
    "whiteWines = csv.reader(open(filename, newline='\\n'), delimiter=';')\n",
    "header = next(whiteWines)\n",
    "WWDataset = list(whiteWines)\n",
    "for i in range(len(WWDataset)):\n",
    "    WWDataset[i] = [float(x) for x in WWDataset[i]]\n",
    "    \n",
    "WWDataset = np.asarray(WWDataset)\n",
    "print(WWDataset.shape)\n",
    "WWScores= WWDataset[:,-1]\n",
    "WWFeatures = WWDataset[:,0:-1]\n",
    "\n",
    "print(WWFeatures.shape)\n",
    "print(WWScores.shape)"
   ]
  },
  {
   "cell_type": "markdown",
   "metadata": {},
   "source": [
    "# Understainding the dataset"
   ]
  },
  {
   "cell_type": "markdown",
   "metadata": {},
   "source": [
    "We wil first print the data on a 2-D space by using a PCA reduction method, this could be usefull to see hot the patterns are distributes trought the dataset, and maybe will give us some usefull clues for the development of the project\n"
   ]
  },
  {
   "cell_type": "code",
   "execution_count": null,
   "metadata": {},
   "outputs": [],
   "source": []
  }
 ],
 "metadata": {
  "kernelspec": {
   "display_name": "Python 3",
   "language": "python",
   "name": "python3"
  },
  "language_info": {
   "codemirror_mode": {
    "name": "ipython",
    "version": 3
   },
   "file_extension": ".py",
   "mimetype": "text/x-python",
   "name": "python",
   "nbconvert_exporter": "python",
   "pygments_lexer": "ipython3",
   "version": "3.8.5"
  }
 },
 "nbformat": 4,
 "nbformat_minor": 5
}

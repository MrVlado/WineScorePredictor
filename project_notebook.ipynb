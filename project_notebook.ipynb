{
 "cells": [
  {
   "cell_type": "markdown",
   "id": "happy-circular",
   "metadata": {},
   "source": [
    "### Loading Libraryes"
   ]
  },
  {
   "cell_type": "code",
   "execution_count": 1,
   "id": "incorrect-toner",
   "metadata": {},
   "outputs": [],
   "source": [
    "%matplotlib inline\n",
    "import matplotlib.pyplot as plt\n",
    "import csv\n",
    "import pandas as pnd\n",
    "import numpy as np\n",
    "import scipy as sp\n",
    "import sklearn as sl\n",
    "from scipy import stats\n",
    "from sklearn import datasets\n",
    "from sklearn import linear_model"
   ]
  },
  {
   "cell_type": "markdown",
   "id": "hollywood-vienna",
   "metadata": {},
   "source": [
    "### Loading Dataset"
   ]
  },
  {
   "cell_type": "markdown",
   "id": "domestic-passing",
   "metadata": {},
   "source": [
    "Input variables (based on physicochemical tests):\n",
    "\n",
    "1 - fixed acidity\n",
    "2 - volatile acidity\n",
    "3 - citric acid\n",
    "4 - residual sugar\n",
    "5 - chlorides\\n\n",
    "6 - free sulfur dioxide\n",
    "7 - total sulfur dioxide\n",
    "8 - density\n",
    "9 - pH\n",
    "10 - sulphates\n",
    "11 - alcohol"
   ]
  },
  {
   "cell_type": "markdown",
   "id": "electric-stack",
   "metadata": {},
   "source": [
    "#### Loading Red Wine"
   ]
  },
  {
   "cell_type": "code",
   "execution_count": 20,
   "id": "radio-saturday",
   "metadata": {},
   "outputs": [
    {
     "name": "stdout",
     "output_type": "stream",
     "text": [
      "(1599, 12)\n",
      "(1599, 11)\n",
      "(1599,)\n"
     ]
    }
   ],
   "source": [
    "filename = 'DATASET_WINE/winequality-red.csv'\n",
    "redWines = csv.reader(open(filename, newline='\\n'), delimiter=';')\n",
    "header = next(redWines)\n",
    "RWDataset = list(redWines)\n",
    "for i in range(len(RWDataset)):\n",
    "    RWDataset[i] = [float(x) for x in RWDataset[i]]\n",
    "    \n",
    "RWDataset = np.asarray(RWDataset)\n",
    "print(RWDataset.shape)\n",
    "RWScores= RWDataset[:,-1]\n",
    "RWFeatures = RWDataset[:,0:-1]\n",
    "\n",
    "print(RWFeatures.shape)\n",
    "print(RWScores.shape)\n"
   ]
  },
  {
   "cell_type": "markdown",
   "id": "precious-string",
   "metadata": {},
   "source": [
    "#### Loading White Wine"
   ]
  },
  {
   "cell_type": "code",
   "execution_count": 21,
   "id": "linear-horizontal",
   "metadata": {},
   "outputs": [
    {
     "name": "stdout",
     "output_type": "stream",
     "text": [
      "(4898, 12)\n",
      "(4898, 11)\n",
      "(4898,)\n"
     ]
    }
   ],
   "source": [
    "filename = 'DATASET_WINE/winequality-white.csv'\n",
    "whiteWines = csv.reader(open(filename, newline='\\n'), delimiter=';')\n",
    "header = next(whiteWines)\n",
    "WWDataset = list(whiteWines)\n",
    "for i in range(len(WWDataset)):\n",
    "    WWDataset[i] = [float(x) for x in WWDataset[i]]\n",
    "    \n",
    "WWDataset = np.asarray(WWDataset)\n",
    "print(WWDataset.shape)\n",
    "WWScores= WWDataset[:,-1]\n",
    "WWFeatures = WWDataset[:,0:-1]\n",
    "\n",
    "print(WWFeatures.shape)\n",
    "print(WWScores.shape)"
   ]
  },
  {
   "cell_type": "markdown",
   "id": "previous-father",
   "metadata": {},
   "source": [
    "# Understainding the dataset"
   ]
  },
  {
   "cell_type": "markdown",
   "id": "color-springer",
   "metadata": {},
   "source": [
    "We wil first print the data on a 2-D space by using a PCA reduction method, this could be usefull to see hot the patterns are distributes trought the dataset, and maybe will give us some usefull clues for the development of the project\n"
   ]
  },
  {
   "cell_type": "code",
   "execution_count": 1,
   "id": "valid-laptop",
   "metadata": {},
   "outputs": [
    {
     "ename": "NameError",
     "evalue": "name 'pnd' is not defined",
     "output_type": "error",
     "traceback": [
      "\u001b[0;31m---------------------------------------------------------------------------\u001b[0m",
      "\u001b[0;31mNameError\u001b[0m                                 Traceback (most recent call last)",
      "\u001b[0;32m<ipython-input-1-799c1eb73d79>\u001b[0m in \u001b[0;36m<module>\u001b[0;34m\u001b[0m\n\u001b[0;32m----> 1\u001b[0;31m \u001b[0mdataframe\u001b[0m \u001b[0;34m=\u001b[0m \u001b[0mpnd\u001b[0m\u001b[0;34m.\u001b[0m\u001b[0mDataFrame\u001b[0m\u001b[0;34m(\u001b[0m\u001b[0mRWDataset\u001b[0m\u001b[0;34m)\u001b[0m\u001b[0;34m\u001b[0m\u001b[0;34m\u001b[0m\u001b[0m\n\u001b[0m\u001b[1;32m      2\u001b[0m \u001b[0mplt\u001b[0m\u001b[0;34m.\u001b[0m\u001b[0mmatshow\u001b[0m\u001b[0;34m(\u001b[0m\u001b[0mdataframe\u001b[0m\u001b[0;34m.\u001b[0m\u001b[0mcorr\u001b[0m\u001b[0;34m(\u001b[0m\u001b[0;34m)\u001b[0m\u001b[0;34m)\u001b[0m\u001b[0;34m\u001b[0m\u001b[0;34m\u001b[0m\u001b[0m\n\u001b[1;32m      3\u001b[0m \u001b[0mplt\u001b[0m\u001b[0;34m.\u001b[0m\u001b[0mshow\u001b[0m\u001b[0;34m(\u001b[0m\u001b[0;34m)\u001b[0m\u001b[0;34m\u001b[0m\u001b[0;34m\u001b[0m\u001b[0m\n",
      "\u001b[0;31mNameError\u001b[0m: name 'pnd' is not defined"
     ]
    }
   ],
   "source": [
    "dataframe = pnd.DataFrame(RWDataset)\n",
    "plt.matshow(dataframe.corr())\n",
    "plt.show()"
   ]
  }
 ],
 "metadata": {
  "kernelspec": {
   "display_name": "Python 3",
   "language": "python",
   "name": "python3"
  },
  "language_info": {
   "codemirror_mode": {
    "name": "ipython",
    "version": 3
   },
   "file_extension": ".py",
   "mimetype": "text/x-python",
   "name": "python",
   "nbconvert_exporter": "python",
   "pygments_lexer": "ipython3",
   "version": "3.9.1"
  }
 },
 "nbformat": 4,
 "nbformat_minor": 5
}
